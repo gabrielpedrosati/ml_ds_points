{
 "cells": [
  {
   "cell_type": "code",
   "execution_count": 1,
   "id": "758a7a0d",
   "metadata": {},
   "outputs": [],
   "source": [
    "import duckdb"
   ]
  },
  {
   "cell_type": "markdown",
   "id": "b46f6eab",
   "metadata": {},
   "source": [
    "## Customers"
   ]
  },
  {
   "cell_type": "code",
   "execution_count": 7,
   "id": "1eacd25a",
   "metadata": {},
   "outputs": [
    {
     "data": {
      "text/plain": [
       "┌──────────────┐\n",
       "│ count_star() │\n",
       "│    int64     │\n",
       "├──────────────┤\n",
       "│         1570 │\n",
       "└──────────────┘"
      ]
     },
     "execution_count": 7,
     "metadata": {},
     "output_type": "execute_result"
    }
   ],
   "source": [
    "# Number of transactions\n",
    "duckdb.sql(\"SELECT COUNT(*) FROM 'customers.csv'\")"
   ]
  },
  {
   "cell_type": "code",
   "execution_count": 8,
   "id": "157aa640",
   "metadata": {},
   "outputs": [
    {
     "data": {
      "text/plain": [
       "┌──────────────────────────────────────┬────────────────┬─────────┐\n",
       "│              idCustomer              │ PointsCustomer │ flEmail │\n",
       "│               varchar                │     int64      │  int64  │\n",
       "├──────────────────────────────────────┼────────────────┼─────────┤\n",
       "│ aa3eaf74-6d9c-4859-b733-5a18a3b2f71b │           1110 │       0 │\n",
       "│ 2d3d2dce-d353-4961-ad39-46723efe2100 │           2250 │       0 │\n",
       "│ 5f8fcbe0-6014-43f8-8b83-38cf2f4887b3 │          11962 │       0 │\n",
       "│ ca95ef2a-5129-40f4-acbc-2ced25940032 │            421 │       0 │\n",
       "│ 65662aff-44d6-4f06-b9d9-07445c6e5943 │           2699 │       0 │\n",
       "└──────────────────────────────────────┴────────────────┴─────────┘"
      ]
     },
     "execution_count": 8,
     "metadata": {},
     "output_type": "execute_result"
    }
   ],
   "source": [
    "# First 5 lines\n",
    "duckdb.sql(\"SELECT * FROM 'customers.csv' LIMIT 5\")"
   ]
  },
  {
   "cell_type": "code",
   "execution_count": 9,
   "id": "72336a59",
   "metadata": {},
   "outputs": [
    {
     "data": {
      "text/plain": [
       "┌────────────────────────────┐\n",
       "│ count(DISTINCT idCustomer) │\n",
       "│           int64            │\n",
       "├────────────────────────────┤\n",
       "│                       1570 │\n",
       "└────────────────────────────┘"
      ]
     },
     "execution_count": 9,
     "metadata": {},
     "output_type": "execute_result"
    }
   ],
   "source": [
    "# Distinct Customers\n",
    "duckdb.sql(\"SELECT COUNT(DISTINCT idCustomer) FROM 'customers.csv'\")"
   ]
  },
  {
   "cell_type": "code",
   "execution_count": 19,
   "id": "0ccc351c",
   "metadata": {},
   "outputs": [
    {
     "data": {
      "text/plain": [
       "┌─────────────────────┬─────────────────────┬─────────────────────┐\n",
       "│ max(PointsCustomer) │ min(PointsCustomer) │ avg(PointsCustomer) │\n",
       "│        int64        │        int64        │       double        │\n",
       "├─────────────────────┼─────────────────────┼─────────────────────┤\n",
       "│               11962 │                   0 │  409.60127388535034 │\n",
       "└─────────────────────┴─────────────────────┴─────────────────────┘"
      ]
     },
     "execution_count": 19,
     "metadata": {},
     "output_type": "execute_result"
    }
   ],
   "source": [
    "# Max and Min Points\n",
    "duckdb.sql(\"SELECT MAX(PointsCustomer), MIN(PointsCustomer), AVG(PointsCustomer) FROM 'customers.csv'\")"
   ]
  },
  {
   "cell_type": "code",
   "execution_count": 13,
   "id": "0c7f4922",
   "metadata": {},
   "outputs": [
    {
     "data": {
      "text/plain": [
       "┌─────────┬──────────────┐\n",
       "│ flEmail │ count_star() │\n",
       "│  int64  │    int64     │\n",
       "├─────────┼──────────────┤\n",
       "│       0 │         1495 │\n",
       "│       1 │           75 │\n",
       "└─────────┴──────────────┘"
      ]
     },
     "execution_count": 13,
     "metadata": {},
     "output_type": "execute_result"
    }
   ],
   "source": [
    "# Email Flag \n",
    "duckdb.sql(\"SELECT flEmail, COUNT(*) FROM 'customers.csv' GROUP BY 1\")"
   ]
  },
  {
   "cell_type": "code",
   "execution_count": null,
   "id": "3d5ba4f0",
   "metadata": {},
   "outputs": [],
   "source": [
    "# Distinct Customers\n",
    "duckdb.sql(\"SELECT COUNT(DISTINCT idCustomer) FROM 'customers.csv'\")"
   ]
  },
  {
   "cell_type": "code",
   "execution_count": null,
   "id": "46d85a2f",
   "metadata": {},
   "outputs": [
    {
     "data": {
      "text/plain": [
       "┌─────────────────────────────────────┬────────────────────────────────────┬─────────────────────────────────────┐\n",
       "│ quantile_cont(PointsCustomer, 0.25) │ quantile_cont(PointsCustomer, 0.5) │ quantile_cont(PointsCustomer, 0.75) │\n",
       "│               double                │               double               │               double                │\n",
       "├─────────────────────────────────────┼────────────────────────────────────┼─────────────────────────────────────┤\n",
       "│                                50.0 │                              104.0 │                               374.5 │\n",
       "└─────────────────────────────────────┴────────────────────────────────────┴─────────────────────────────────────┘"
      ]
     },
     "execution_count": 17,
     "metadata": {},
     "output_type": "execute_result"
    }
   ],
   "source": [
    "# Quartiles\n",
    "duckdb.sql(\"SELECT quantile_cont(PointsCustomer, 0.25), quantile_cont(PointsCustomer, 0.5), quantile_cont(PointsCustomer, 0.75) FROM 'customers.csv'\")"
   ]
  },
  {
   "cell_type": "markdown",
   "id": "d155c110",
   "metadata": {},
   "source": [
    "## Transactions"
   ]
  },
  {
   "cell_type": "code",
   "execution_count": 21,
   "id": "20214a35",
   "metadata": {},
   "outputs": [
    {
     "data": {
      "text/plain": [
       "┌──────────────────────────────────────┬──────────────────────────────────────┬─────────────────────┬───────────────────┐\n",
       "│            idTransaction             │              idCustomer              │    dtTransaction    │ pointsTransaction │\n",
       "│               varchar                │               varchar                │      timestamp      │       int64       │\n",
       "├──────────────────────────────────────┼──────────────────────────────────────┼─────────────────────┼───────────────────┤\n",
       "│ fb4e3102-6125-414e-b086-e7f641e38f93 │ 5f8fcbe0-6014-43f8-8b83-38cf2f4887b3 │ 2024-01-27 11:53:23 │                 1 │\n",
       "│ 036b8d66-8adf-479b-ba0f-cb0e3207acb0 │ 5f8fcbe0-6014-43f8-8b83-38cf2f4887b3 │ 2024-01-27 11:53:24 │                 1 │\n",
       "│ 10166182-a164-4608-8cdf-35e4450b2bd7 │ 5f8fcbe0-6014-43f8-8b83-38cf2f4887b3 │ 2024-01-27 12:11:44 │               500 │\n",
       "│ 03974c58-e86e-4b6b-8143-8f89ca870d09 │ 5f8fcbe0-6014-43f8-8b83-38cf2f4887b3 │ 2024-01-27 12:19:41 │                 1 │\n",
       "│ e84703a6-b606-4096-a2f3-514971c16c5c │ 5f8fcbe0-6014-43f8-8b83-38cf2f4887b3 │ 2024-01-27 12:31:46 │               500 │\n",
       "└──────────────────────────────────────┴──────────────────────────────────────┴─────────────────────┴───────────────────┘"
      ]
     },
     "execution_count": 21,
     "metadata": {},
     "output_type": "execute_result"
    }
   ],
   "source": [
    "duckdb.sql(\"SELECT * FROM 'transactions.csv' LIMIT 5\")"
   ]
  },
  {
   "cell_type": "markdown",
   "id": "c118c922",
   "metadata": {},
   "source": [
    "## Transactions Product"
   ]
  },
  {
   "cell_type": "code",
   "execution_count": 22,
   "id": "e1e8ddc5",
   "metadata": {},
   "outputs": [
    {
     "data": {
      "text/plain": [
       "┌──────────────────────────────────────┬──────────────────────────────────────┬─────────────┬─────────────────┐\n",
       "│          idTransactionCart           │            idTransaction             │ NameProduct │ QuantityProduct │\n",
       "│               varchar                │               varchar                │   varchar   │      int64      │\n",
       "├──────────────────────────────────────┼──────────────────────────────────────┼─────────────┼─────────────────┤\n",
       "│ ba023304-32b1-4a9c-9ce5-49eea5552a6d │ 72067015-ddcd-45cf-a166-0082cadc547d │ Cerveja     │               1 │\n",
       "│ 35afb58a-afe4-4ed6-a81d-f50a8bf39bd5 │ 72067015-ddcd-45cf-a166-0082cadc547d │ Bolo        │               2 │\n",
       "│ db356eed-8325-4cbf-a8ba-cef6d4823e99 │ 72067015-ddcd-45cf-a166-0082cadc547d │ Batata      │               1 │\n",
       "│ e0525599-41c4-4e04-8829-e34392d40b6d │ 4bd6f05e-362b-4df5-9050-e5a28e1b9328 │ Torta       │               1 │\n",
       "│ 3e971fb6-b08d-467e-a65c-d60dbd40c7e6 │ 4bd6f05e-362b-4df5-9050-e5a28e1b9328 │ Coca Cola   │              10 │\n",
       "└──────────────────────────────────────┴──────────────────────────────────────┴─────────────┴─────────────────┘"
      ]
     },
     "execution_count": 22,
     "metadata": {},
     "output_type": "execute_result"
    }
   ],
   "source": [
    "duckdb.sql(\"SELECT * FROM 'transactions_product.csv' LIMIT 5\")"
   ]
  }
 ],
 "metadata": {
  "kernelspec": {
   "display_name": "project_env",
   "language": "python",
   "name": "python3"
  },
  "language_info": {
   "codemirror_mode": {
    "name": "ipython",
    "version": 3
   },
   "file_extension": ".py",
   "mimetype": "text/x-python",
   "name": "python",
   "nbconvert_exporter": "python",
   "pygments_lexer": "ipython3",
   "version": "3.12.3"
  }
 },
 "nbformat": 4,
 "nbformat_minor": 5
}
